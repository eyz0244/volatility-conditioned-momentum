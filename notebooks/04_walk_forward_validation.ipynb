{
 "cells": [
  {
   "cell_type": "markdown",
   "metadata": {},
   "source": [
    "## Notebook 04 – Walk Forward Validation\n",
    "\n",
    "This notebook performs walk-forward validation of long-short momentum returns, conditioned on volatility and dispersion regimes. This notebook then exports the results for downstream analysis."
   ]
  },
  {
   "cell_type": "markdown",
   "metadata": {},
   "source": [
    "### Step 0 - Import packages and functions"
   ]
  },
  {
   "cell_type": "code",
   "execution_count": 1,
   "metadata": {},
   "outputs": [
    {
     "name": "stderr",
     "output_type": "stream",
     "text": [
      "C:\\Users\\edzz0\\AppData\\Local\\Continuum\\anaconda3\\lib\\site-packages\\pandas\\compat\\_optional.py:138: UserWarning: Pandas requires version '2.7.0' or newer of 'numexpr' (version '2.6.9' currently installed).\n",
      "  warnings.warn(msg, UserWarning)\n"
     ]
    }
   ],
   "source": [
    "import sys, os\n",
    "sys.path.append(os.path.abspath(\"../src\"))\n",
    "import pandas as pd\n",
    "import numpy as np\n",
    "\n",
    "# Helper functions to perform walk-forward testing\n",
    "from backtest_engine import model_decile_long_short, walk_forward_model_apply"
   ]
  },
  {
   "cell_type": "markdown",
   "metadata": {},
   "source": [
    "### Step 1 - Import log returns, momentum, volatility regime, and dispersion regime datasets"
   ]
  },
  {
   "cell_type": "code",
   "execution_count": 2,
   "metadata": {},
   "outputs": [],
   "source": [
    "# Define regime methods\n",
    "methods = [\"static\", \"rolling\", \"expanding\"]\n",
    "\n",
    "# Set up dict for volatility regime datasets and walk-forward results\n",
    "vol_regimes = {}\n",
    "vol_wf_results = {}\n",
    "\n",
    "# Set up dict for dispersion regime datasets and walk-forward results\n",
    "disp_regimes = {}\n",
    "disp_wf_results = {}"
   ]
  },
  {
   "cell_type": "code",
   "execution_count": 3,
   "metadata": {},
   "outputs": [],
   "source": [
    "# Import log returns\n",
    "log_returns = pd.read_parquet(\"../data/processed/log_returns.parquet\")\n",
    "\n",
    "# Import momentum\n",
    "momentum = pd.read_parquet(\"../data/processed/momentum.parquet\")\n",
    "\n",
    "# Import volatility regimes\n",
    "for method in methods:\n",
    "    path = f\"../data/processed/regime_market_vol_{method}.parquet\"\n",
    "    vol_regimes[method] = pd.read_parquet(path)[\"vol_regime\"]\n",
    "\n",
    "# Import dispersion regimes\n",
    "for method in methods:\n",
    "    path = f\"../data/processed/regime_cross_dispersion_{method}.parquet\"\n",
    "    disp_regimes[method] = pd.read_parquet(path)[\"disp_regime\"]"
   ]
  },
  {
   "cell_type": "markdown",
   "metadata": {},
   "source": [
    "### Step 2 - Perform walk-forward validation by volatility regime"
   ]
  },
  {
   "cell_type": "code",
   "execution_count": 4,
   "metadata": {},
   "outputs": [],
   "source": [
    "# Apply walk-forward per regime/method\n",
    "for method in methods:\n",
    "    for regime_label in [\"low_vol\", \"high_vol\"]:\n",
    "        key = f\"{regime_label}_{method}\"\n",
    "        vol_wf_results[key] = walk_forward_model_apply(\n",
    "            momentum, log_returns, vol_regimes[method], regime_label,\n",
    "            model_fn=model_decile_long_short\n",
    "        )\n",
    "        \n",
    "# Apply walk-forward per regime/method\n",
    "for method in methods:\n",
    "    for regime_label in [\"low_disp\", \"high_disp\"]:\n",
    "        key = f\"{regime_label}_{method}\"\n",
    "        disp_wf_results[key] = walk_forward_model_apply(\n",
    "            momentum, log_returns, disp_regimes[method], regime_label,\n",
    "            model_fn=model_decile_long_short\n",
    "        )"
   ]
  },
  {
   "cell_type": "markdown",
   "metadata": {},
   "source": [
    "### Step 3 - Print Results"
   ]
  },
  {
   "cell_type": "code",
   "execution_count": 5,
   "metadata": {},
   "outputs": [
    {
     "name": "stdout",
     "output_type": "stream",
     "text": [
      "Low_vol regime (static): 1131/3843 valid days\n",
      "High_vol regime (static): 999/3843 valid days\n",
      "Low_vol regime (rolling): 1280/3843 valid days\n",
      "High_vol regime (rolling): 938/3843 valid days\n",
      "Low_vol regime (expanding): 1269/3843 valid days\n",
      "High_vol regime (expanding): 918/3843 valid days\n",
      "\n",
      "\n",
      "Low_disp regime (static): 1129/3843 valid days\n",
      "High_disp regime (static): 1077/3843 valid days\n",
      "Low_disp regime (rolling): 1191/3843 valid days\n",
      "High_disp regime (rolling): 1072/3843 valid days\n",
      "Low_disp regime (expanding): 939/3843 valid days\n",
      "High_disp regime (expanding): 1373/3843 valid days\n"
     ]
    }
   ],
   "source": [
    "# Print summary\n",
    "for method in methods:\n",
    "    for regime_label in [\"low_vol\", \"high_vol\"]:\n",
    "        key = f\"{regime_label}_{method}\"\n",
    "        wf = vol_wf_results[key]\n",
    "        print(f\"{regime_label.capitalize()} regime ({method}): {wf['returns'].notna().sum()}/{len(wf)} valid days\")\n",
    "\n",
    "print(\"\\n\")\n",
    "              \n",
    "# Print summary\n",
    "for method in methods:\n",
    "    for regime_label in [\"low_disp\", \"high_disp\"]:\n",
    "        key = f\"{regime_label}_{method}\"\n",
    "        wf = disp_wf_results[key]\n",
    "        print(f\"{regime_label.capitalize()} regime ({method}): {wf['returns'].notna().sum()}/{len(wf)} valid days\")"
   ]
  },
  {
   "cell_type": "markdown",
   "metadata": {},
   "source": [
    "### Step 4 - Export"
   ]
  },
  {
   "cell_type": "code",
   "execution_count": 6,
   "metadata": {},
   "outputs": [],
   "source": [
    "# Creat dict for volatility vs dispersion results\n",
    "wf_result_map = {\n",
    "    \"vol\": vol_wf_results,\n",
    "    \"disp\": disp_wf_results,\n",
    "}\n",
    "\n",
    "# Create dict for different regime type labels between volatility and dispersion\n",
    "regime_type_to_labels = {\n",
    "    \"vol\": [\"low_vol\", \"high_vol\"],\n",
    "    \"disp\": [\"low_disp\", \"high_disp\"],\n",
    "}\n",
    "\n",
    "# iterate through and export as parquet files\n",
    "for regime_type, result_dict in wf_result_map.items():\n",
    "    for method in methods:\n",
    "        for regime_label in regime_type_to_labels[regime_type]:\n",
    "            key = f\"{regime_label}_{method}\"  # e.g. \"low_vol_static\", \"high_disp_expanding\"\n",
    "            col_name = f\"wf_mom_{regime_label}\"  # no double type\n",
    "            out_path = f\"../data/processed/wf_mom_{key}.parquet\"\n",
    "            \n",
    "            result_dict[key].rename(columns={\"returns\": col_name}).to_parquet(out_path)"
   ]
  },
  {
   "cell_type": "code",
   "execution_count": null,
   "metadata": {},
   "outputs": [],
   "source": []
  }
 ],
 "metadata": {
  "kernelspec": {
   "display_name": "Python 3",
   "language": "python",
   "name": "python3"
  },
  "language_info": {
   "codemirror_mode": {
    "name": "ipython",
    "version": 3
   },
   "file_extension": ".py",
   "mimetype": "text/x-python",
   "name": "python",
   "nbconvert_exporter": "python",
   "pygments_lexer": "ipython3",
   "version": "3.7.3"
  }
 },
 "nbformat": 4,
 "nbformat_minor": 2
}
