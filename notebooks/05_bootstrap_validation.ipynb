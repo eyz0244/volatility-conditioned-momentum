{
 "cells": [
  {
   "cell_type": "markdown",
   "metadata": {},
   "source": [
    "## Notebook 05 – Bootstrap Validation\n",
    "\n",
    "This notebook performs boostrap validation of long vs short momentum returns conditioned on volatility and dispersion regimes. The bootstrap function returns mean difference, lower and upper confidence intervals, as well as p-value for the differences."
   ]
  },
  {
   "cell_type": "markdown",
   "metadata": {},
   "source": [
    "### Step 0 - Import packages and functions"
   ]
  },
  {
   "cell_type": "code",
   "execution_count": 2,
   "metadata": {},
   "outputs": [
    {
     "name": "stderr",
     "output_type": "stream",
     "text": [
      "C:\\Users\\edzz0\\AppData\\Local\\Continuum\\anaconda3\\lib\\site-packages\\pandas\\compat\\_optional.py:138: UserWarning: Pandas requires version '2.7.0' or newer of 'numexpr' (version '2.6.9' currently installed).\n",
      "  warnings.warn(msg, UserWarning)\n"
     ]
    }
   ],
   "source": [
    "import sys, os\n",
    "sys.path.append(os.path.abspath(\"../src\"))\n",
    "import pandas as pd\n",
    "import numpy as np\n",
    "\n",
    "# Helper functions for bootstrap validation\n",
    "from stats_helpers import bootstrap_ci, bootstrap_mean_diff\n",
    "from report_helpers import format_diff_result, format_ci_result\n",
    "from plot_helpers import plot_ci_bar"
   ]
  },
  {
   "cell_type": "markdown",
   "metadata": {},
   "source": [
    "### Step 1 - Import long-short returns by low vs high volatility and dispersion regimes."
   ]
  },
  {
   "cell_type": "code",
   "execution_count": 3,
   "metadata": {},
   "outputs": [],
   "source": [
    "# Three threshold methods\n",
    "methods = [\"static\", \"rolling\", \"expanding\"]\n",
    "\n",
    "# Create dict for different regime type labels between volatility and dispersion\n",
    "regime_type_to_labels = {\n",
    "    \"vol\": [\"low_vol\", \"high_vol\"],\n",
    "    \"disp\": [\"low_disp\", \"high_disp\"],\n",
    "}\n",
    "\n",
    "# Create dict to store results\n",
    "wf_mom_returns = {}\n",
    "\n",
    "# iterate through and import parquet files\n",
    "for regime_type, regime_labels in regime_type_to_labels.items():\n",
    "    for method in methods:\n",
    "        for regime_label in regime_labels:\n",
    "            key = f\"{regime_label}_{method}\"  # e.g. \"low_vol_static\"\n",
    "            path = f\"../data/processed/wf_mom_{key}.parquet\"\n",
    "            col_name = f\"wf_mom_{regime_label}\"\n",
    "            wf_mom_returns[key] = pd.read_parquet(path)[col_name]"
   ]
  },
  {
   "cell_type": "markdown",
   "metadata": {},
   "source": [
    "### Step 2 - Conduct bootstrap validation on long-short returns by regime"
   ]
  },
  {
   "cell_type": "code",
   "execution_count": 4,
   "metadata": {},
   "outputs": [
    {
     "name": "stdout",
     "output_type": "stream",
     "text": [
      "Regime: low_vol_static\n",
      "Mean: 0.000337\n",
      "95% CI: [-0.000229, 0.000885]\n",
      "--------------------------------------------------\n",
      "Regime: high_vol_static\n",
      "Mean: -0.000374\n",
      "95% CI: [-0.001560, 0.000742]\n",
      "--------------------------------------------------\n",
      "Comparison: vol_static\n",
      "Group 1 (Low Vol) — Mean: 0.000337, N: 1131\n",
      "Group 2 (High Vol) — Mean: -0.000374, N: 999\n",
      "Mean Difference: 0.000711\n",
      "Boostrap Difference: -0.000015\n",
      "95% CI for Difference: [-0.001285, 0.001212]\n",
      "P-value: 0.274\n",
      "--------------------------------------------------\n",
      "Regime: low_vol_rolling\n",
      "Mean: 0.000258\n",
      "95% CI: [-0.000361, 0.000858]\n",
      "--------------------------------------------------\n",
      "Regime: high_vol_rolling\n",
      "Mean: 0.000269\n",
      "95% CI: [-0.000747, 0.001344]\n",
      "--------------------------------------------------\n",
      "Comparison: vol_rolling\n",
      "Group 1 (Low Vol) — Mean: 0.000258, N: 1280\n",
      "Group 2 (High Vol) — Mean: 0.000269, N: 938\n",
      "Mean Difference: -0.000012\n",
      "Boostrap Difference: -0.000017\n",
      "95% CI for Difference: [-0.001145, 0.001163]\n",
      "P-value: 0.989\n",
      "--------------------------------------------------\n",
      "Regime: low_vol_expanding\n",
      "Mean: 0.000585\n",
      "95% CI: [0.000083, 0.001119]\n",
      "--------------------------------------------------\n",
      "Regime: high_vol_expanding\n",
      "Mean: -0.000507\n",
      "95% CI: [-0.001737, 0.000686]\n",
      "--------------------------------------------------\n",
      "Comparison: vol_expanding\n",
      "Group 1 (Low Vol) — Mean: 0.000585, N: 1269\n",
      "Group 2 (High Vol) — Mean: -0.000507, N: 918\n",
      "Mean Difference: 0.001092\n",
      "Boostrap Difference: -0.000026\n",
      "95% CI for Difference: [-0.001265, 0.001168]\n",
      "P-value: 0.077\n",
      "--------------------------------------------------\n",
      "Regime: low_disp_static\n",
      "Mean: 0.000202\n",
      "95% CI: [-0.000346, 0.000729]\n",
      "--------------------------------------------------\n",
      "Regime: high_disp_static\n",
      "Mean: 0.000087\n",
      "95% CI: [-0.001112, 0.001190]\n",
      "--------------------------------------------------\n",
      "Comparison: disp_static\n",
      "Group 1 (Low Vol) — Mean: 0.000202, N: 1129\n",
      "Group 2 (High Vol) — Mean: 0.000087, N: 1077\n",
      "Mean Difference: 0.000115\n",
      "Boostrap Difference: -0.000006\n",
      "95% CI for Difference: [-0.001238, 0.001213]\n",
      "P-value: 0.849\n",
      "--------------------------------------------------\n",
      "Regime: low_disp_rolling\n",
      "Mean: 0.000029\n",
      "95% CI: [-0.000545, 0.000623]\n",
      "--------------------------------------------------\n",
      "Regime: high_disp_rolling\n",
      "Mean: 0.000442\n",
      "95% CI: [-0.000461, 0.001358]\n",
      "--------------------------------------------------\n",
      "Comparison: disp_rolling\n",
      "Group 1 (Low Vol) — Mean: 0.000029, N: 1191\n",
      "Group 2 (High Vol) — Mean: 0.000442, N: 1072\n",
      "Mean Difference: -0.000413\n",
      "Boostrap Difference: -0.000012\n",
      "95% CI for Difference: [-0.001131, 0.001074]\n",
      "P-value: 0.448\n",
      "--------------------------------------------------\n",
      "Regime: low_disp_expanding\n",
      "Mean: 0.000338\n",
      "95% CI: [-0.000172, 0.000876]\n",
      "--------------------------------------------------\n",
      "Regime: high_disp_expanding\n",
      "Mean: 0.000128\n",
      "95% CI: [-0.000873, 0.001131]\n",
      "--------------------------------------------------\n",
      "Comparison: disp_expanding\n",
      "Group 1 (Low Vol) — Mean: 0.000338, N: 939\n",
      "Group 2 (High Vol) — Mean: 0.000128, N: 1373\n",
      "Mean Difference: 0.000210\n",
      "Boostrap Difference: 0.000008\n",
      "95% CI for Difference: [-0.001186, 0.001166]\n",
      "P-value: 0.743\n",
      "--------------------------------------------------\n"
     ]
    }
   ],
   "source": [
    "# Create dict to store bootstrapped confidence intervals\n",
    "ci_results = {}\n",
    "\n",
    "# Create dict to store bootstrapped difference in means results\n",
    "diff_results = {}\n",
    "\n",
    "# Three threshold methods\n",
    "methods = [\"static\", \"rolling\", \"expanding\"]\n",
    "regime_type_to_labels = {\n",
    "    \"vol\": [\"low_vol\", \"high_vol\"],\n",
    "    \"disp\": [\"low_disp\", \"high_disp\"],\n",
    "}\n",
    "\n",
    "# Iterate through and run bootstrap testing\n",
    "for regime_type, labels in regime_type_to_labels.items():\n",
    "    for method in methods:\n",
    "        low_key = f\"{labels[0]}_{method}\"   # e.g. \"low_vol_static\"\n",
    "        high_key = f\"{labels[1]}_{method}\"  # e.g. \"high_vol_static\"\n",
    "        diff_key = f\"{regime_type}_{method}\"\n",
    "\n",
    "        ci_low = bootstrap_ci(wf_mom_returns[low_key], seed = 0)\n",
    "        ci_high = bootstrap_ci(wf_mom_returns[high_key], seed = 0)\n",
    "        ci_results[low_key] = ci_low\n",
    "        ci_results[high_key] = ci_high\n",
    "\n",
    "        diff_result = bootstrap_mean_diff(wf_mom_returns[low_key], wf_mom_returns[high_key], seed = 0)\n",
    "        diff_results[diff_key] = diff_result\n",
    "\n",
    "        # Helper function to print bootstrapped confidence interval results\n",
    "        format_ci_result(low_key, ci_low)\n",
    "        format_ci_result(high_key, ci_high)\n",
    "\n",
    "        # Helper function to print bootstrapped difference in means results\n",
    "        format_diff_result(diff_key, diff_result)"
   ]
  },
  {
   "cell_type": "markdown",
   "metadata": {},
   "source": [
    "# Step 4 - Plot and Export Barplots with confidence intervals"
   ]
  },
  {
   "cell_type": "code",
   "execution_count": 5,
   "metadata": {},
   "outputs": [
    {
     "data": {
      "image/png": "[encoded data removed]",
      "text/plain": [
       "<Figure size 432x288 with 1 Axes>"
      ]
     },
     "metadata": {
      "needs_background": "light"
     },
     "output_type": "display_data"
    },
    {
     "data": {
      "image/png": "[encoded data removed]",
      "text/plain": [
       "<Figure size 432x288 with 1 Axes>"
      ]
     },
     "metadata": {
      "needs_background": "light"
     },
     "output_type": "display_data"
    }
   ],
   "source": [
    "# Isolate expanding quantile definition, the one of focus for this project due to temporal integrity and label stability\n",
    "# Loop through volatility and dispersion\n",
    "for prefix, plot_title, filename, order in [\n",
    "    (\"vol\", \"Expanding Volatility Regime: Long-Short Spread with 95% CI\", \"expanding_regime_bar.png\", [\"low_vol\", \"high_vol\"]),\n",
    "    (\"disp\", \"Expanding Dispersion Regime: Long-Short Spread with 95% CI\", \"expanding_disp_regime_bar.png\", [\"low_disp\", \"high_disp\"])\n",
    "]:\n",
    "    \n",
    "    low_key = f\"low_{prefix}_expanding\"\n",
    "    high_key = f\"high_{prefix}_expanding\"\n",
    "\n",
    "    # Low regime confidence interval\n",
    "    ci_low = bootstrap_ci(wf_mom_returns[low_key], seed = 0)\n",
    "    \n",
    "    # High regime confidence interval\n",
    "    ci_high = bootstrap_ci(wf_mom_returns[high_key], seed = 0)\n",
    "\n",
    "    # Store confidence interval results\n",
    "    expanding_results = {\n",
    "        order[0]: ci_low,\n",
    "        order[1]: ci_high\n",
    "    }\n",
    "\n",
    "    # Helper function to plot and export\n",
    "    plot_ci_bar(\n",
    "        expanding_results,\n",
    "        title=plot_title,\n",
    "        filename=filename,\n",
    "        order=order\n",
    "    )"
   ]
  },
  {
   "cell_type": "code",
   "execution_count": null,
   "metadata": {},
   "outputs": [],
   "source": []
  }
 ],
 "metadata": {
  "kernelspec": {
   "display_name": "Python 3",
   "language": "python",
   "name": "python3"
  },
  "language_info": {
   "codemirror_mode": {
    "name": "ipython",
    "version": 3
   },
   "file_extension": ".py",
   "mimetype": "text/x-python",
   "name": "python",
   "nbconvert_exporter": "python",
   "pygments_lexer": "ipython3",
   "version": "3.7.3"
  }
 },
 "nbformat": 4,
 "nbformat_minor": 2
}
