{
 "cells": [
  {
   "cell_type": "markdown",
   "metadata": {},
   "source": [
    "## Notebook 03 – Defining Volatility Regimes\n",
    "\n",
    "This notebook defines and creates the volatility regimes for the universe (market) as well as the dispersion regimes across tickers, and exports both for downstream analysis."
   ]
  },
  {
   "cell_type": "markdown",
   "metadata": {},
   "source": [
    "### Step 0 - Import packages and functions"
   ]
  },
  {
   "cell_type": "code",
   "execution_count": 1,
   "metadata": {},
   "outputs": [
    {
     "name": "stderr",
     "output_type": "stream",
     "text": [
      "C:\\Users\\edzz0\\AppData\\Local\\Continuum\\anaconda3\\lib\\site-packages\\pandas\\compat\\_optional.py:138: UserWarning: Pandas requires version '2.7.0' or newer of 'numexpr' (version '2.6.9' currently installed).\n",
      "  warnings.warn(msg, UserWarning)\n"
     ]
    }
   ],
   "source": [
    "import sys, os\n",
    "sys.path.append(os.path.abspath(\"../src\"))\n",
    "import pandas as pd\n",
    "import numpy as np\n",
    "from collections import OrderedDict\n",
    "\n",
    "# Helper functions to compute regimes\n",
    "from regime_definitions import compute_market_volatility_regime, compute_cross_sectional_dispersion_regime"
   ]
  },
  {
   "cell_type": "markdown",
   "metadata": {},
   "source": [
    "### Step 1 - Load Log Returns dataset"
   ]
  },
  {
   "cell_type": "code",
   "execution_count": 2,
   "metadata": {},
   "outputs": [],
   "source": [
    "# Import log returns\n",
    "log_returns = pd.read_parquet(\"../data/processed/log_returns.parquet\")"
   ]
  },
  {
   "cell_type": "markdown",
   "metadata": {},
   "source": [
    "### Step 2 - Compute volatility and dispersion regimes"
   ]
  },
  {
   "cell_type": "code",
   "execution_count": 3,
   "metadata": {},
   "outputs": [],
   "source": [
    "methods = [\"static\", \"rolling\", \"expanding\"]\n",
    "vol_regimes = OrderedDict()\n",
    "disp_regimes = OrderedDict()"
   ]
  },
  {
   "cell_type": "code",
   "execution_count": 4,
   "metadata": {},
   "outputs": [],
   "source": [
    "# Compute volatility regimes using 20-day rolling std of average market returns\n",
    "# Compute dispersion regimes using 20-day rolling mean of cross-sectional std across tickers\n",
    "# Uses default window parameter = 20 days, default lookback window for quantiles\n",
    "# Compute all regimes\n",
    "for method in methods:\n",
    "    vol_regimes[method] = compute_market_volatility_regime(log_returns, quantile_method=method)\n",
    "    disp_regimes[method] = compute_cross_sectional_dispersion_regime(log_returns, quantile_method=method)\n"
   ]
  },
  {
   "cell_type": "markdown",
   "metadata": {},
   "source": [
    "### Step 3 - Print count of each volatility and dispersion regime."
   ]
  },
  {
   "cell_type": "code",
   "execution_count": 5,
   "metadata": {},
   "outputs": [
    {
     "name": "stdout",
     "output_type": "stream",
     "text": [
      "\n",
      "Volatility regime counts (static):\n",
      "neutral     1556\n",
      "high_vol    1153\n",
      "low_vol     1153\n",
      "dtype: int64\n",
      "\n",
      "Volatility regime counts (rolling):\n",
      "neutral     1620\n",
      "low_vol     1280\n",
      "high_vol     962\n",
      "dtype: int64\n",
      "\n",
      "Volatility regime counts (expanding):\n",
      "neutral     1535\n",
      "low_vol     1349\n",
      "high_vol     978\n",
      "dtype: int64\n",
      "\n",
      "Dispersion regime counts (static):\n",
      "neutral      1556\n",
      "high_disp    1153\n",
      "low_disp     1153\n",
      "dtype: int64\n",
      "\n",
      "Dispersion regime counts (rolling):\n",
      "neutral      1577\n",
      "low_disp     1191\n",
      "high_disp    1094\n",
      "dtype: int64\n",
      "\n",
      "Dispersion regime counts (expanding):\n",
      "high_disp    1429\n",
      "neutral      1413\n",
      "low_disp     1020\n",
      "dtype: int64\n"
     ]
    }
   ],
   "source": [
    "# Print value counts\n",
    "for method in methods:\n",
    "    print(f\"\\nVolatility regime counts ({method}):\")\n",
    "    print(vol_regimes[method].value_counts(dropna=False))\n",
    "\n",
    "for method in methods:\n",
    "    print(f\"\\nDispersion regime counts ({method}):\")\n",
    "    print(disp_regimes[method].value_counts(dropna=False))"
   ]
  },
  {
   "cell_type": "markdown",
   "metadata": {},
   "source": [
    "### Step 4 - Export regime datasets"
   ]
  },
  {
   "cell_type": "code",
   "execution_count": 6,
   "metadata": {},
   "outputs": [],
   "source": [
    "# Save regimes as parquet files\n",
    "# Save parquet outputs\n",
    "for method in methods:\n",
    "    vol_regimes[method].to_frame(name=\"vol_regime\").to_parquet(f\"../data/processed/regime_market_vol_{method}.parquet\")\n",
    "    disp_regimes[method].to_frame(name=\"disp_regime\").to_parquet(f\"../data/processed/regime_cross_dispersion_{method}.parquet\")"
   ]
  },
  {
   "cell_type": "code",
   "execution_count": null,
   "metadata": {},
   "outputs": [],
   "source": []
  }
 ],
 "metadata": {
  "kernelspec": {
   "display_name": "Python 3",
   "language": "python",
   "name": "python3"
  },
  "language_info": {
   "codemirror_mode": {
    "name": "ipython",
    "version": 3
   },
   "file_extension": ".py",
   "mimetype": "text/x-python",
   "name": "python",
   "nbconvert_exporter": "python",
   "pygments_lexer": "ipython3",
   "version": "3.7.3"
  }
 },
 "nbformat": 4,
 "nbformat_minor": 2
}
