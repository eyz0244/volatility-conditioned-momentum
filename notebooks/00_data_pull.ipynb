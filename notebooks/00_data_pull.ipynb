{
 "cells": [
  {
   "cell_type": "markdown",
   "metadata": {},
   "source": [
    "## Notebook 00 – Data Pull\n",
    "\n",
    "This notebook pulls and exports the data required for this project from EODHD. \n",
    "\n",
    "**Note:** To run this notebook, you must set your EODHD API key in `src/config.py`.\n",
    "\n",
    "Replace the following line in `config.py`:\n",
    "\n",
    "    API_KEY = \"\"  # Add your actual key here\n",
    "\n",
    "Alternatively, you can store the key as an environment variable and update `config.py` like this:\n",
    "\n",
    "    import os\n",
    "    API_KEY = os.getenv(\"EODHD_API_KEY\")"
   ]
  },
  {
   "cell_type": "markdown",
   "metadata": {},
   "source": [
    "### Step 0 - Import packages and functions"
   ]
  },
  {
   "cell_type": "code",
   "execution_count": null,
   "metadata": {},
   "outputs": [],
   "source": [
    "import sys, os\n",
    "sys.path.append(\"../src\") \n",
    "sys.path.append(\"../\") \n",
    "import pandas as pd\n",
    "import requests\n",
    "import time\n",
    "\n",
    "# Helper functions to pull data\n",
    "from data_fetcher import fetch_and_save_price\n",
    "\n",
    "# Import global variables\n",
    "from config import API_KEY, BASE_URL, DATE_FROM, DATE_TO, OUTPUT_DIR"
   ]
  },
  {
   "cell_type": "markdown",
   "metadata": {},
   "source": [
    "### Step 1 - Assemble global parameters from config"
   ]
  },
  {
   "cell_type": "code",
   "execution_count": null,
   "metadata": {},
   "outputs": [],
   "source": [
    "# Assemble config dictionary required by the fetch function\n",
    "config = {\n",
    "    \"API_KEY\": API_KEY,\n",
    "    \"BASE_URL\": BASE_URL,\n",
    "    \"DATE_FROM\": DATE_FROM,\n",
    "    \"DATE_TO\": DATE_TO,\n",
    "    \"OUTPUT_DIR\": OUTPUT_DIR\n",
    "}"
   ]
  },
  {
   "cell_type": "markdown",
   "metadata": {},
   "source": [
    "### Step 2 - Create suffix mapping"
   ]
  },
  {
   "cell_type": "code",
   "execution_count": null,
   "metadata": {},
   "outputs": [],
   "source": [
    "# Create suffix mapping to account for EODHD naming convention\n",
    "suffix_map = {\n",
    "    'sp500.csv': '.US',        # US – Covers both NASDAQ and NYSE\n",
    "}"
   ]
  },
  {
   "cell_type": "markdown",
   "metadata": {},
   "source": [
    "### Step 3 - Create data folder if needed"
   ]
  },
  {
   "cell_type": "code",
   "execution_count": null,
   "metadata": {},
   "outputs": [],
   "source": [
    "os.makedirs(OUTPUT_DIR, exist_ok=True) # Creates the /data/raw_prices folder if it doesn't exist"
   ]
  },
  {
   "cell_type": "markdown",
   "metadata": {},
   "source": [
    "### Step 4 - Get indexes"
   ]
  },
  {
   "cell_type": "code",
   "execution_count": null,
   "metadata": {},
   "outputs": [],
   "source": [
    "# Initialize dictionary to hold DataFrames for each exchange file\n",
    "index_dfs = {}\n",
    "\n",
    "# Define path to directory containing the raw CSV files\n",
    "path = '../data'\n",
    "\n",
    "# Iterate through all files in the directory\n",
    "for file in os.listdir(path):\n",
    "    # Only process CSV files that are in the predefined suffix_map\n",
    "    if file.endswith('.csv') and file in suffix_map:\n",
    "        # Load CSV into DataFrame with specific encoding and data handling\n",
    "        index_df = pd.read_csv(\n",
    "            os.path.join(path, file),\n",
    "            encoding='utf-8-sig',            # Handles BOM markers in some CSVs\n",
    "            dtype={'ticker': str},           # Ensure ticker column is read as string\n",
    "            keep_default_na=False            # Prevent default NA parsing (preserve blanks)\n",
    "        )\n",
    "\n",
    "        # Retrieve the ticker suffix associated with the exchange file\n",
    "        suffix = suffix_map[file]\n",
    "\n",
    "        # Clean ticker field by removing extra whitespace\n",
    "        index_df['ticker'] = index_df['ticker'].str.strip()\n",
    "\n",
    "        # Append exchange suffix to match EODHD ticker format, if not already present\n",
    "        index_df['eodhd_ticker'] = index_df['ticker'].apply(\n",
    "            lambda x: x if x.endswith(suffix) else x + suffix\n",
    "        )\n",
    "\n",
    "        # Store the processed DataFrame in the dictionary\n",
    "        index_dfs[file] = index_df"
   ]
  },
  {
   "cell_type": "markdown",
   "metadata": {},
   "source": [
    "### Step 5 - Get tickers"
   ]
  },
  {
   "cell_type": "code",
   "execution_count": null,
   "metadata": {},
   "outputs": [],
   "source": [
    "# Define list of tickers to fetch data for (example only)\n",
    "tickers = [] \n",
    "\n",
    "for index_name in index_dfs.keys(): # loop through all indexes\n",
    "    index_df = index_dfs[index_name] # Set index_df\n",
    "    for ticker in index_df['eodhd_ticker']: # Lopp through all tickers in index_df\n",
    "        tickers.append(ticker) # Append ticker to tickers list"
   ]
  },
  {
   "cell_type": "markdown",
   "metadata": {},
   "source": [
    "### Step 6 - Pull and export data"
   ]
  },
  {
   "cell_type": "code",
   "execution_count": null,
   "metadata": {},
   "outputs": [],
   "source": [
    "# Iterate through each ticker and download historical price data\n",
    "for ticker in tickers:\n",
    "    fetch_and_save_price(ticker, config) # Call helper function\n",
    "    time.sleep(1.2)  # Respect rate limits"
   ]
  },
  {
   "cell_type": "code",
   "execution_count": null,
   "metadata": {},
   "outputs": [],
   "source": []
  }
 ],
 "metadata": {
  "kernelspec": {
   "display_name": "Python 3",
   "language": "python",
   "name": "python3"
  },
  "language_info": {
   "codemirror_mode": {
    "name": "ipython",
    "version": 3
   },
   "file_extension": ".py",
   "mimetype": "text/x-python",
   "name": "python",
   "nbconvert_exporter": "python",
   "pygments_lexer": "ipython3",
   "version": "3.7.3"
  }
 },
 "nbformat": 4,
 "nbformat_minor": 2
}
